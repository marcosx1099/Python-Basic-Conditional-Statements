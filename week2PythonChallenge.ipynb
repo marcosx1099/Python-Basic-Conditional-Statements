{
 "cells": [
  {
   "cell_type": "code",
   "execution_count": 4,
   "id": "c2e74f3e",
   "metadata": {},
   "outputs": [
    {
     "name": "stdout",
     "output_type": "stream",
     "text": [
      "Enter a number between 1900 and 2100 1905\n",
      "The number you entered is NOT a leap year\n"
     ]
    }
   ],
   "source": [
    "#task1 \n",
    "#Accept an integer between 1900 and 2100 from the user. Display whether the integer is a leap year. \n",
    "#The program should display an error if the integer entered lies outside the specified range.\n",
    "\n",
    "\n",
    "num = int(input(\"Enter a number between 1900 and 2100 \"))\n",
    "while 1900 <= num <= 2100:\n",
    "    if num % 4 == 0:\n",
    "        print(\"The number you entered is a leap year\")\n",
    "    else:\n",
    "        print(\"The number you entered is NOT a leap year\")\n",
    "    break\n",
    "else:\n",
    "     print(\"error\")\n",
    "    "
   ]
  },
  {
   "cell_type": "code",
   "execution_count": 10,
   "id": "ddf054a8",
   "metadata": {},
   "outputs": [
    {
     "name": "stdout",
     "output_type": "stream",
     "text": [
      "Enter a number between 1 and 12 1\n",
      "The month is January, there are 31 days in January\n"
     ]
    }
   ],
   "source": [
    "#task2\n",
    "# Accept an integer between 1 and 12. \n",
    "#Write a Python program to display the name of the month and the number of days in that month.\n",
    "\n",
    "number = int(input(\"Enter a number between 1 and 12 \"))\n",
    "if number == 1:\n",
    "    print (\"The month is January, there are 31 days in January\")\n",
    "elif number == 2:\n",
    "    print (\"The month is Febuary, there are 28 days in Febuary\")\n",
    "elif number == 3:\n",
    "    print (\"The month is March, there are 31 days in March\")\n",
    "elif number == 4:\n",
    "    print (\"The month is April, there are 30 days in April\")\n",
    "elif number == 5:\n",
    "    print (\"The month is May, there are 31 days in May\")\n",
    "elif number == 6:\n",
    "    print (\"The month is June, there are 30 days in June\")\n",
    "elif number == 7:\n",
    "    print (\"The month is July, there are 31 days in July\")\n",
    "elif number == 8:\n",
    "    print (\"The month is August, there are 31 days in August\")\n",
    "elif number == 9:\n",
    "    print (\"The month is September, there are 30 days in September\")\n",
    "elif number == 10:\n",
    "    print (\"The month is October, there are 31 days in October\")\n",
    "elif number == 11:\n",
    "    print (\"The month is November, there are 30 days in November\")\n",
    "elif number == 12:\n",
    "    print (\"The month is December, there are 31 days in December\")\n",
    "else:\n",
    "    print (\"Error\")"
   ]
  },
  {
   "cell_type": "code",
   "execution_count": 11,
   "id": "23595bae",
   "metadata": {},
   "outputs": [
    {
     "name": "stdout",
     "output_type": "stream",
     "text": [
      "Enter the bill amount500\n",
      "Your bill is $ 375.0\n"
     ]
    }
   ],
   "source": [
    "#task3\n",
    "# Accept the total bill amount from the user. Calculate the discount (if any) and display the total bill,\n",
    "#the discount calculated, and the bill amount after deducting the discount\n",
    "\n",
    "bill = float(input(\"Enter the bill amount\"))\n",
    "if bill < 100:\n",
    "    print((\"Your bill is $\"),bill)\n",
    "elif 100 < bill <= 150:\n",
    "    print((\"Your bill is $\"),bill * .9)\n",
    "elif 150 < bill <= 250:\n",
    "    print((\"Your bill is $\"),bill * .85)\n",
    "elif bill > 250:\n",
    "    print((\"Your bill is $\"),bill * .75)"
   ]
  },
  {
   "cell_type": "code",
   "execution_count": 2,
   "id": "b315e496",
   "metadata": {},
   "outputs": [
    {
     "name": "stdout",
     "output_type": "stream",
     "text": [
      "Enter Rock, Paper or Scissors\n",
      "Rock\n",
      "User1 picked Rock\n",
      "Enter Rock, Paper or Scissors\n",
      "Paper\n",
      "User2 picked Paper\n",
      "Paper beats rock, user2 wins\n"
     ]
    }
   ],
   "source": [
    "#task4\n",
    "# build the Rock-Paper-Scissors game using Python\n",
    "\n",
    "rps_user1 = (input(\"Enter Rock, Paper or Scissors\\n\"))\n",
    "print('User1 picked', rps_user1)\n",
    "rps_user2 = (input(\"Enter Rock, Paper or Scissors\\n\"))\n",
    "print('User2 picked', rps_user2)\n",
    "\n",
    "if rps_user1 == 'Rock' and rps_user2 == 'Scissors':\n",
    "    print('Rock beats scissors, user1 wins')\n",
    "elif rps_user1 == 'Rock' and rps_user2 == 'Paper':\n",
    "    print('Paper beats rock, user2 wins')\n",
    "elif rps_user1 == 'Rock' and rps_user2 == 'Rock':\n",
    "    print('Tie')\n",
    "elif rps_user1 == 'Scissors' and rps_user2 == 'Scissors':\n",
    "    print('Tie')\n",
    "elif rps_user1 == 'Scissors' and rps_user2 == 'Paper':\n",
    "    print('Scissors beats paper, user1 wins')\n",
    "elif rps_user1 == 'Scissors' and rps_user2 == 'Rock':\n",
    "    print('Rock beats scissors, user2 wins')\n",
    "elif rps_user1 == 'Paper' and rps_user2 == 'Scissors':\n",
    "    print('Scissors beats paper, user2 wins')\n",
    "elif rps_user1 == 'Paper' and rps_user2 == 'Paper':\n",
    "    print('Tie')\n",
    "elif rps_user1 == 'Paper' and rps_user2 == 'Rock':\n",
    "    print('Paper beats rock, user1 wins')\n",
    "else:\n",
    "    print('error, enter the word correctly')"
   ]
  },
  {
   "cell_type": "code",
   "execution_count": null,
   "id": "5b185ac0",
   "metadata": {
    "scrolled": true
   },
   "outputs": [],
   "source": []
  },
  {
   "cell_type": "code",
   "execution_count": null,
   "id": "6ee15be8",
   "metadata": {},
   "outputs": [],
   "source": []
  }
 ],
 "metadata": {
  "kernelspec": {
   "display_name": "Python 3 (ipykernel)",
   "language": "python",
   "name": "python3"
  },
  "language_info": {
   "codemirror_mode": {
    "name": "ipython",
    "version": 3
   },
   "file_extension": ".py",
   "mimetype": "text/x-python",
   "name": "python",
   "nbconvert_exporter": "python",
   "pygments_lexer": "ipython3",
   "version": "3.10.9"
  }
 },
 "nbformat": 4,
 "nbformat_minor": 5
}
