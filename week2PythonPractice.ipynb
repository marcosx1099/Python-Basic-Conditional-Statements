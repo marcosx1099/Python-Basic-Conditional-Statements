{
 "cells": [
  {
   "cell_type": "code",
   "execution_count": null,
   "id": "9dec42b6",
   "metadata": {},
   "outputs": [],
   "source": [
    "Write interactive decision-driven programs in Python by using a Jupyter Notebook, based on the following tasks."
   ]
  },
  {
   "cell_type": "code",
   "execution_count": 15,
   "id": "e913b77a",
   "metadata": {},
   "outputs": [
    {
     "name": "stdout",
     "output_type": "stream",
     "text": [
      "Enter the letter k\n",
      "Holiday\n"
     ]
    }
   ],
   "source": [
    "#task 1 - Decision-Making Based on User Input\n",
    "# Accept a character from the user. If the user enters:\n",
    "\n",
    "# 'A', then display \"Python\"\n",
    "# 'B', then display \"MySQL\"\n",
    "# 'C', then display \"Excel\"\n",
    "# If the user enters any other character, then display \"Holiday\".\n",
    "\n",
    "\n",
    "\n",
    "letter = input(\"Enter the letter \")\n",
    "if letter == \"A\":\n",
    "    print(\"Python\")\n",
    "elif letter == \"B\":\n",
    "    print('MYSQL')\n",
    "elif letter == \"C\":\n",
    "    print('Excel')\n",
    "else:\n",
    "    print('Holiday')"
   ]
  },
  {
   "cell_type": "code",
   "execution_count": null,
   "id": "03b8c96b",
   "metadata": {},
   "outputs": [],
   "source": [
    "#task2- Comparing Two Numbers\n",
    "# Accept two numbers from the user and display the higher of the two numbers.\n",
    "\n",
    "num1 = int(input(\"Enter the first number \"))\n",
    "num2 = int(input(\"Enter the second number \"))\n",
    "if num1 > num2:\n",
    "    print(num1)\n",
    "else:\n",
    "    print(num2)"
   ]
  },
  {
   "cell_type": "code",
   "execution_count": 3,
   "id": "432f8972",
   "metadata": {},
   "outputs": [
    {
     "name": "stdout",
     "output_type": "stream",
     "text": [
      "Enter your salary 65000\n",
      "1014000.0\n"
     ]
    }
   ],
   "source": [
    "#task3- Calculating Gross Salary\n",
    "# If the monthly basic salary is less than $4,000, the user will get 10% HRA and 5% TA on basic salary.\n",
    "# If the monthly basic salary is between $4,001 and $10,000, the user will get 10% HRA and 10% TA on basic salary.\n",
    "# If the monthly basic salary is above $10,000, the user will get 15% HRA and 15% TA on basic salary.\n",
    "# Create a program that accepts basic salary as the input and displays the annual gross salary.\n",
    "\n",
    "\n",
    "basic_salary = int(input(\"Enter your salary \"))\n",
    "if basic_salary < 4000:\n",
    "    hra = .1\n",
    "    ta = .05\n",
    "    gross_salary = basic_salary+ (basic_salary * (hra + ta))\n",
    "    print(gross_salary * 12)\n",
    "elif 4000 <= basic_salary <= 10000:\n",
    "    hra = .1\n",
    "    ta = .1\n",
    "    gross_salary = basic_salary+ (basic_salary * (hra + ta))\n",
    "    print(gross_salary * 12)\n",
    "elif basic_salary > 10000:\n",
    "    hra = .15\n",
    "    ta = .15\n",
    "    gross_salary = basic_salary+ (basic_salary * (hra + ta))\n",
    "    print(round(gross_salary * 12,2))"
   ]
  },
  {
   "cell_type": "code",
   "execution_count": 6,
   "id": "ea932b46",
   "metadata": {},
   "outputs": [
    {
     "name": "stdout",
     "output_type": "stream",
     "text": [
      "Enter the word\n",
      "banana\n",
      "NO\n"
     ]
    }
   ],
   "source": [
    "#task4- Searching a Word in a Paragraph\n",
    "# Accept a word from the user and check if the word exists in the variable var. \n",
    "# Print YES if the word exists, else print NO.\n",
    "\n",
    "\n",
    "word = input(\"Enter the word\\n\")\n",
    "var = \"Python is an interpreted, high-level, general-purpose programming language. Its design philosophy emphasizes code readability, with its use of significant indentation. Its language constructs as well as its object-oriented approach aim to help programmers write clear, logical code for small and large-scale projects.\"\n",
    "if word in var:\n",
    "    print(\"YES\")\n",
    "else:\n",
    "    print(\"NO\")"
   ]
  },
  {
   "cell_type": "code",
   "execution_count": 26,
   "id": "7743cf9c",
   "metadata": {},
   "outputs": [
    {
     "name": "stdout",
     "output_type": "stream",
     "text": [
      "Enter a letter in capital or lowercase L\n",
      "UPPERCASE\n"
     ]
    }
   ],
   "source": [
    "#task5- Checking if a Character is Uppercase or Lowercase\n",
    "#Accept an alphabet from the user. Display if the alphabet entered is uppercase or lowercase.\n",
    "\n",
    "word = input(\"Enter a letter in capital or lowercase \")\n",
    "if  word.isupper():\n",
    "    print('UPPERCASE')\n",
    "else:\n",
    "    print('lowercase')\n"
   ]
  },
  {
   "cell_type": "code",
   "execution_count": 7,
   "id": "c0d262f7",
   "metadata": {},
   "outputs": [
    {
     "name": "stdout",
     "output_type": "stream",
     "text": [
      "Enter a letter\n",
      "a\n",
      "the letter a is a vowel\n"
     ]
    }
   ],
   "source": [
    "#task6- Checking if an Alphabet is a Vowel or Consonant\n",
    "# Accept an alphabet from the user. Display whether the alphabet entered is a vowel or consonant.\n",
    "\n",
    "\n",
    "word = input(\"Enter a letter\\n\")\n",
    "vowels = ('a','e','i','o','u')\n",
    "if word in vowels:\n",
    "    print (f\"the letter {word} is a vowel\")\n",
    "elif word == \"y\":\n",
    "    print(\"The letter y can also be a vowel\")\n",
    "else:\n",
    "    print(\"consonant\")"
   ]
  },
  {
   "cell_type": "code",
   "execution_count": null,
   "id": "95022cad",
   "metadata": {},
   "outputs": [],
   "source": []
  }
 ],
 "metadata": {
  "kernelspec": {
   "display_name": "Python 3 (ipykernel)",
   "language": "python",
   "name": "python3"
  },
  "language_info": {
   "codemirror_mode": {
    "name": "ipython",
    "version": 3
   },
   "file_extension": ".py",
   "mimetype": "text/x-python",
   "name": "python",
   "nbconvert_exporter": "python",
   "pygments_lexer": "ipython3",
   "version": "3.10.9"
  }
 },
 "nbformat": 4,
 "nbformat_minor": 5
}
